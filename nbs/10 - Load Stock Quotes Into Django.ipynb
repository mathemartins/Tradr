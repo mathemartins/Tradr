{
 "cells": [
  {
   "cell_type": "code",
   "execution_count": 1,
   "id": "5d1c27e7-00e5-4c8c-86b1-6ab9f053a626",
   "metadata": {},
   "outputs": [
    {
     "name": "stdout",
     "output_type": "stream",
     "text": [
      ".env loaded from /Users/mac/PycharmProjects/Stock-Trading-Bot/.env\n"
     ]
    }
   ],
   "source": [
    "import setup\n",
    "setup.init_django()"
   ]
  },
  {
   "cell_type": "code",
   "execution_count": 2,
   "id": "4b5fbfca-4686-400e-979e-4aebbce637ef",
   "metadata": {},
   "outputs": [],
   "source": [
    "import helpers.clients as helper_clients"
   ]
  },
  {
   "cell_type": "code",
   "execution_count": 3,
   "id": "bab1e377-2400-40e4-b9ba-76c4c700c7f2",
   "metadata": {},
   "outputs": [],
   "source": [
    "company_name = \"Apple\"\n",
    "company_ticker = \"AAPL\"\n",
    "multiplier = 1\n",
    "from_date = \"2023-01-09\"\n",
    "to_date = \"2023-01-09\""
   ]
  },
  {
   "cell_type": "code",
   "execution_count": 5,
   "id": "edbf3990-5e2e-488b-86f9-a2ca70d89f3f",
   "metadata": {},
   "outputs": [],
   "source": [
    "client = helper_clients.PolygonAPIClient(\n",
    "    ticker=company_ticker,\n",
    "    multiplier=multiplier,\n",
    "    from_date=from_date,\n",
    "    to_date=to_date\n",
    ")\n",
    "dataset = client.get_market_data()"
   ]
  },
  {
   "cell_type": "code",
   "execution_count": 6,
   "id": "22c8fbec-eddb-4a8e-9dba-641fe9d98067",
   "metadata": {},
   "outputs": [
    {
     "data": {
      "text/plain": [
       "{'open_price': 130.465,\n",
       " 'close_price': 130.15,\n",
       " 'high_price': 133.41,\n",
       " 'low_price': 129.89,\n",
       " 'number_of_trades': 645365,\n",
       " 'volume': 70790813.0,\n",
       " 'volume_weighted_average': 131.6292,\n",
       " 'time': datetime.datetime(2023, 1, 9, 5, 0, tzinfo=<UTC>)}"
      ]
     },
     "execution_count": 6,
     "metadata": {},
     "output_type": "execute_result"
    }
   ],
   "source": [
    "new_stock_data = dataset[0]\n",
    "new_stock_data"
   ]
  },
  {
   "cell_type": "code",
   "execution_count": 7,
   "id": "53d01f99-4143-4e48-8f22-be8ccae6a07f",
   "metadata": {},
   "outputs": [],
   "source": [
    "from market.models import Company, StockQuote"
   ]
  },
  {
   "cell_type": "code",
   "execution_count": 8,
   "id": "aadafe70-df33-47da-afaf-dac3e543bda8",
   "metadata": {},
   "outputs": [],
   "source": [
    "company_obj, created = Company.objects.get_or_create(name=company_name, ticker=company_ticker)"
   ]
  },
  {
   "cell_type": "code",
   "execution_count": 9,
   "id": "3d20bb20-cf3d-41f8-bc48-15dd4c06e58c",
   "metadata": {},
   "outputs": [
    {
     "data": {
      "text/plain": [
       "<Company: Company object (1)>"
      ]
     },
     "execution_count": 9,
     "metadata": {},
     "output_type": "execute_result"
    }
   ],
   "source": [
    "company_obj"
   ]
  },
  {
   "cell_type": "code",
   "execution_count": 10,
   "id": "f98b29a6-a6b4-49f0-bef2-7edc048f6297",
   "metadata": {},
   "outputs": [
    {
     "data": {
      "text/plain": [
       "<StockQuote: StockQuote object (1)>"
      ]
     },
     "execution_count": 10,
     "metadata": {},
     "output_type": "execute_result"
    }
   ],
   "source": [
    "StockQuote.objects.create(company=company_obj, **new_stock_data)"
   ]
  },
  {
   "cell_type": "code",
   "execution_count": null,
   "id": "51e81992-0ae9-46b1-87c3-cddf2aa63681",
   "metadata": {},
   "outputs": [],
   "source": []
  }
 ],
 "metadata": {
  "kernelspec": {
   "display_name": "Python 3 (ipykernel)",
   "language": "python",
   "name": "python3"
  },
  "language_info": {
   "codemirror_mode": {
    "name": "ipython",
    "version": 3
   },
   "file_extension": ".py",
   "mimetype": "text/x-python",
   "name": "python",
   "nbconvert_exporter": "python",
   "pygments_lexer": "ipython3",
   "version": "3.12.5"
  }
 },
 "nbformat": 4,
 "nbformat_minor": 5
}
