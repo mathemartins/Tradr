{
 "cells": [
  {
   "cell_type": "code",
   "execution_count": 5,
   "id": "e85ed483-d2ef-4920-a1b5-51dd0eddf4a6",
   "metadata": {
    "ExecuteTime": {
     "end_time": "2025-01-19T12:43:46.156470900Z",
     "start_time": "2025-01-19T12:43:46.137408600Z"
    }
   },
   "outputs": [],
   "source": [
    "import setup\n",
    "setup.init_django()"
   ]
  },
  {
   "cell_type": "code",
   "execution_count": 6,
   "id": "9b9ca555-32fb-4f46-a606-48e409b235f7",
   "metadata": {
    "ExecuteTime": {
     "end_time": "2025-01-19T12:43:47.367690300Z",
     "start_time": "2025-01-19T12:43:47.345167200Z"
    }
   },
   "outputs": [],
   "source": [
    "from market import services as market_services\n",
    "from market import tasks as market_tasks\n",
    "from market.models import Company"
   ]
  },
  {
   "cell_type": "code",
   "execution_count": 7,
   "id": "17a821e5-1584-47f7-b53b-c2d204deabfe",
   "metadata": {
    "ExecuteTime": {
     "end_time": "2025-01-19T12:43:47.952320700Z",
     "start_time": "2025-01-19T12:43:47.933447800Z"
    }
   },
   "outputs": [],
   "source": [
    "import json\n"
   ]
  },
  {
   "cell_type": "code",
   "execution_count": 8,
   "id": "4b007fdc-9a97-4d82-b386-e1e885704073",
   "metadata": {
    "ExecuteTime": {
     "end_time": "2025-01-19T12:43:48.862410100Z",
     "start_time": "2025-01-19T12:43:48.807406300Z"
    }
   },
   "outputs": [
    {
     "data": {
      "text/plain": "3"
     },
     "execution_count": 8,
     "metadata": {},
     "output_type": "execute_result"
    }
   ],
   "source": [
    "ticker = \"C:GBPJPY\"\n",
    "name = \"GBPJPY\"\n",
    "company, _ = Company.objects.get_or_create(name=name, ticker=ticker, category=\"forex\")\n",
    "company.id"
   ]
  },
  {
   "cell_type": "code",
   "execution_count": 9,
   "id": "5248e7f5-eb8b-4c41-bd1a-6b0998ec7267",
   "metadata": {
    "ExecuteTime": {
     "end_time": "2025-01-19T12:43:52.315677600Z",
     "start_time": "2025-01-19T12:43:52.298050300Z"
    }
   },
   "outputs": [],
   "source": [
    "# market_tasks.sync_historical_data(years_ago=1, company_ids=[company.id], use_celery=False, verbose=True)\n",
    "\n",
    "# use celery / async\n",
    "# market_tasks.sync_historical_stock_data.delay(years_ago=5, company_ids=[company.id], use_celery=True, verbose=False)"
   ]
  },
  {
   "cell_type": "code",
   "execution_count": 10,
   "id": "cd8d0220-ec15-4a25-9d51-764c41ae1f12",
   "metadata": {
    "ExecuteTime": {
     "end_time": "2025-01-19T12:43:54.558245100Z",
     "start_time": "2025-01-19T12:43:53.914246500Z"
    }
   },
   "outputs": [
    {
     "data": {
      "text/plain": "{'score': 1,\n 'ticker': 'C:GBPJPY',\n 'indicators': {'ma_5': 191.3702,\n  'ma_20': 194.9194,\n  'current_price': Decimal('190.1500'),\n  'conservative_target': 193.4419,\n  'aggressive_target': 195.4756,\n  'average_price': 195.3335,\n  'avg_volume': 162.55555555555554,\n  'latest_volume': 7,\n  'volume_change_percent': -95.69377990430623,\n  'rsi': 49.7323,\n  'avg_gain': 0.4098,\n  'avg_loss': 0.4142,\n  'period': 14,\n  'days': 60,\n  'upper_band': Decimal('200.2438'),\n  'lower_band': Decimal('190.4233'),\n  'sma': Decimal('195.3335'),\n  'macd': Decimal('1.9582'),\n  'signal': Decimal('0.3830'),\n  'histogram': Decimal('1.5752'),\n  '23.6%': Decimal('196.5938'),\n  '38.2%': Decimal('195.3356'),\n  '50.0%': Decimal('194.3188'),\n  '61.8%': Decimal('193.3019'),\n  '78.6%': Decimal('191.8541')}}"
     },
     "execution_count": 10,
     "metadata": {},
     "output_type": "execute_result"
    }
   ],
   "source": [
    "results = market_services.get_stock_indicators(ticker=ticker, days=60)\n",
    "results"
   ]
  },
  {
   "cell_type": "code",
   "execution_count": 11,
   "outputs": [],
   "source": [
    "from decimal import Decimal\n",
    "\n",
    "def decimal_default(obj):\n",
    "    if isinstance(obj, Decimal):\n",
    "        return float(obj)  # Or str(obj) if you prefer\n",
    "    raise TypeError(\"Object of type %s is not JSON serializable\" % type(obj).__name__)"
   ],
   "metadata": {
    "collapsed": false,
    "ExecuteTime": {
     "end_time": "2025-01-19T12:43:57.010070100Z",
     "start_time": "2025-01-19T12:43:56.986187400Z"
    }
   }
  },
  {
   "cell_type": "code",
   "execution_count": 12,
   "id": "7e5ec9bd-786c-405c-abe3-157889edefe4",
   "metadata": {
    "ExecuteTime": {
     "end_time": "2025-01-19T12:43:59.441929Z",
     "start_time": "2025-01-19T12:43:59.399274300Z"
    }
   },
   "outputs": [
    {
     "data": {
      "text/plain": "'{\"score\": 1, \"ticker\": \"C:GBPJPY\", \"indicators\": {\"ma_5\": 191.3702, \"ma_20\": 194.9194, \"current_price\": 190.15, \"conservative_target\": 193.4419, \"aggressive_target\": 195.4756, \"average_price\": 195.3335, \"avg_volume\": 162.55555555555554, \"latest_volume\": 7, \"volume_change_percent\": -95.69377990430623, \"rsi\": 49.7323, \"avg_gain\": 0.4098, \"avg_loss\": 0.4142, \"period\": 14, \"days\": 60, \"upper_band\": 200.2438, \"lower_band\": 190.4233, \"sma\": 195.3335, \"macd\": 1.9582, \"signal\": 0.383, \"histogram\": 1.5752, \"23.6%\": 196.5938, \"38.2%\": 195.3356, \"50.0%\": 194.3188, \"61.8%\": 193.3019, \"78.6%\": 191.8541}}'"
     },
     "execution_count": 12,
     "metadata": {},
     "output_type": "execute_result"
    }
   ],
   "source": [
    "# Convert to JSON\n",
    "results_as_json = json.dumps(results, default=decimal_default)\n",
    "results_as_json"
   ]
  },
  {
   "cell_type": "code",
   "execution_count": 13,
   "id": "7f7cb784-4c04-4c3c-a37e-75b54be43388",
   "metadata": {
    "ExecuteTime": {
     "end_time": "2025-01-19T12:44:05.723291500Z",
     "start_time": "2025-01-19T12:44:03.070527800Z"
    }
   },
   "outputs": [],
   "source": [
    "OLLAMA_API_URL = \"http://localhost:11434/api/chat\"\n",
    "import ollama"
   ]
  },
  {
   "cell_type": "code",
   "execution_count": 14,
   "id": "879c180e-8fbb-47ca-a7e6-cd6e56c0639c",
   "metadata": {
    "ExecuteTime": {
     "end_time": "2025-01-19T12:47:02.346801500Z",
     "start_time": "2025-01-19T12:44:06.518245Z"
    }
   },
   "outputs": [
    {
     "name": "stdout",
     "output_type": "stream",
     "text": [
      "```json\n",
      "{\n",
      "  \"prediction\": {\n",
      "    \"direction\": \"bearish\",\n",
      "    \"reasoning\": [\n",
      "      \"Current price ($190.15) is below the average price ($195.3335), indicating a potential reversal.\",\n",
      "      \"RSI (49.7323) is in oversold territory, suggesting a potential bounce back.\"\n",
      "    ],\n",
      "    \"target_price\": 189.25\n",
      "  },\n",
      "  \"recommendation\": {\n",
      "    \"trade_size\": \"$10\",\n",
      "    \"stop_loss_level\": -1.0,\n",
      "    \"take_profit_level\": 2.0,\n",
      "    \"risk_reward_ratio\": 2.0,\n",
      "    \"entry_points\": [\n",
      "      {\n",
      "        \"price\": 190.15,\n",
      "        \"method\": \"Bollinger Bands\"\n",
      "      },\n",
      "      {\n",
      "        \"price\": 191.3702,\n",
      "        \"method\": \"MA (5)\"\n",
      "      }\n",
      "    ],\n",
      "    \"exit_points\": [\n",
      "      {\n",
      "        \"price\": 189.25,\n",
      "        \"method\": \"Target Price\"\n",
      "      },\n",
      "      {\n",
      "        \"price\": 190.4233,\n",
      "        \"method\": \"Lower Band\"\n",
      "      }\n",
      "    ]\n",
      "  }\n",
      "}\n",
      "```\n",
      "\n",
      "Explanation:\n",
      "\n",
      "*   **Prediction Direction:** Based on the data, we predict a bearish trend in the 4-hour GBP/JPY chart.\n",
      "*   **Reasoning:**\n",
      "    *   The current price ($190.15) is below the average price ($195.3335), indicating a potential reversal.\n",
      "    *   RSI (49.7323) is in oversold territory, suggesting a potential bounce back.\n",
      "*   **Target Price:** We set a target price of $189.25, which is 1 pip below the lower band. This targets a profit of $0.85 per trade ($10 trade size).\n",
      "*   **Risk Management:**\n",
      "    *   Trade Size: $10\n",
      "    *   Stop Loss Level: -1.0 (a 1-pip stop loss)\n",
      "    *   Take Profit Level: 2.0 (a 2-pip take profit)\n",
      "    *   Risk-Reward Ratio: 2.0 (at least a 1:2 risk-reward ratio)\n",
      "*   **Entry Points:**\n",
      "    *   Method 1: Bollinger Bands ($190.15)\n",
      "    *   Method 2: MA (5) ($191.3702)\n",
      "*   **Exit Points:**\n",
      "    *   Method 1: Target Price ($189.25)\n",
      "    *   Method 2: Lower Band ($190.4233)\n",
      "\n",
      "This strategy aims to capture a potential bounce back in the market while maintaining a risk-reward ratio of at least 1:2 and limiting losses to $1 or less per trade."
     ]
    }
   ],
   "source": [
    "res = ollama.chat(\n",
    "    model=\"llama3.2\",\n",
    "    messages = [\n",
    "        {\n",
    "            \"role\": \"system\",\n",
    "            \"content\": (\n",
    "                 \"You are a forex trading expert with advanced knowledge of financial indicators. Your goal is to provide actionable recommendations using data in the current month and the last month\"\n",
    "                \"to achieve a minimum profit of $2 while maintaining a risk of $1 or less per trade. Ensure that your strategy includes a risk-reward ratio of at least 1:2, \"\n",
    "                \"clear entry and exit points, stop loss and take profit levels in pips, and the rationale for your decisions. Base all calculations on a $100 trading account and a $10 trade size. \"\n",
    "                \"Only suggest trades that align with prudent risk management and account for market volatility. Respond in valid JSON format.\"\n",
    "\n",
    "            )\n",
    "        },\n",
    "        {\n",
    "            \"role\": \"user\",\n",
    "            \"content\": f\"Given the following forex data: {results_as_json}, \"\n",
    "                       \"provide a 4hrs prediction and recommendation trade.\"\n",
    "        }\n",
    "    ],\n",
    "    stream=True,\n",
    ")\n",
    "\n",
    "for chunk in res:\n",
    "    print(chunk[\"message\"][\"content\"], end=\"\", flush=True)"
   ]
  },
  {
   "cell_type": "code",
   "execution_count": null,
   "outputs": [],
   "source": [],
   "metadata": {
    "collapsed": false
   }
  },
  {
   "cell_type": "code",
   "execution_count": null,
   "outputs": [],
   "source": [],
   "metadata": {
    "collapsed": false
   }
  }
 ],
 "metadata": {
  "kernelspec": {
   "display_name": "Python 3 (ipykernel)",
   "language": "python",
   "name": "python3"
  },
  "language_info": {
   "codemirror_mode": {
    "name": "ipython",
    "version": 3
   },
   "file_extension": ".py",
   "mimetype": "text/x-python",
   "name": "python",
   "nbconvert_exporter": "python",
   "pygments_lexer": "ipython3",
   "version": "3.12.3"
  }
 },
 "nbformat": 4,
 "nbformat_minor": 5
}
